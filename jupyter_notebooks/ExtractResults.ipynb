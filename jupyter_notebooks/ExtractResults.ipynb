{
 "cells": [
  {
   "cell_type": "code",
   "execution_count": 1,
   "metadata": {},
   "outputs": [
    {
     "name": "stdout",
     "output_type": "stream",
     "text": [
      "Summary saved as 'experiment_summary.csv'.\n"
     ]
    }
   ],
   "source": [
    "import os\n",
    "import json\n",
    "import pandas as pd\n",
    "\n",
    "# Define the correct experiment directory\n",
    "experiment_dir = \"../outputs\"  # Adjusted path to match Jupyter Notebook CWD\n",
    "output_csv = \"experiment_summary.csv\"\n",
    "\n",
    "# Initialize data storage\n",
    "experiment_data = []\n",
    "\n",
    "\n",
    "# Function to extract classification report\n",
    "def parse_classification_report(file_path):\n",
    "    metrics = {}\n",
    "    with open(file_path, \"r\") as f:\n",
    "        lines = f.readlines()\n",
    "        for line in lines:\n",
    "            parts = line.split()\n",
    "            if len(parts) == 5 and parts[0].isdigit():  # Class-wise metrics\n",
    "                class_name = parts[0]\n",
    "                metrics[f\"Precision_{class_name}\"] = float(parts[1])\n",
    "                metrics[f\"Recall_{class_name}\"] = float(parts[2])\n",
    "                metrics[f\"F1-score_{class_name}\"] = float(parts[3])\n",
    "            elif \"accuracy\" in line.lower():  # Overall accuracy\n",
    "                metrics[\"Accuracy\"] = float(parts[-2])\n",
    "    return metrics\n",
    "\n",
    "\n",
    "# Function to extract accuracy/loss from history CSV\n",
    "def parse_history_csv(file_path):\n",
    "    history_data = pd.read_csv(file_path)\n",
    "    last_epoch = history_data.iloc[-1]  # Get last row (final epoch results)\n",
    "    return {\n",
    "        \"Train Accuracy\": last_epoch.get(\"accuracy\", None),\n",
    "        \"Val Accuracy\": last_epoch.get(\"val_accuracy\", None),\n",
    "        \"Train Loss\": last_epoch.get(\"loss\", None),\n",
    "        \"Val Loss\": last_epoch.get(\"val_loss\", None),\n",
    "    }\n",
    "\n",
    "\n",
    "# Mapping for model-specific history file names\n",
    "history_files = {\n",
    "    \"draft_mobilenetv2\": \"history_mobilenet.csv\",\n",
    "    \"draft_sigmoid\": \"history_sigmoid.csv\",\n",
    "    \"draft_softmax\": \"history_softmax.csv\",\n",
    "}\n",
    "\n",
    "# Iterate over each model version\n",
    "for model_version in [\"draft_mobilenetv2\", \"draft_sigmoid\", \"draft_softmax\"]:\n",
    "    model_path = os.path.join(experiment_dir, model_version)\n",
    "    if os.path.isdir(model_path):\n",
    "        for trial in [\"1-trial\", \"2-trial\", \"3-trial\", \"4-trial\"]:\n",
    "            trial_path = os.path.join(model_path, trial)\n",
    "\n",
    "            # Initialize result storage\n",
    "            trial_result = {\n",
    "                \"Model Version\": model_version,\n",
    "                \"Trial #\": trial,\n",
    "                \"Train Accuracy\": None,\n",
    "                \"Val Accuracy\": None,\n",
    "                \"Train Loss\": None,\n",
    "                \"Val Loss\": None,\n",
    "            }\n",
    "\n",
    "            # Load model-specific history CSV\n",
    "            history_filename = history_files.get(model_version, \"history.csv\")\n",
    "            history_path = os.path.join(trial_path, history_filename)\n",
    "            if os.path.exists(history_path):\n",
    "                trial_result.update(parse_history_csv(history_path))\n",
    "            else:\n",
    "                print(f\"Missing history file: {history_path}\")\n",
    "\n",
    "            # Load classification report\n",
    "            class_report_path = os.path.join(\n",
    "                trial_path, \"classification_report_test.txt\"\n",
    "            )\n",
    "            if os.path.exists(class_report_path):\n",
    "                trial_result.update(parse_classification_report(class_report_path))\n",
    "            else:\n",
    "                print(f\"Missing classification report: {class_report_path}\")\n",
    "\n",
    "            # Append results\n",
    "            experiment_data.append(trial_result)\n",
    "\n",
    "# Convert results to DataFrame\n",
    "df_experiments = pd.DataFrame(experiment_data)\n",
    "\n",
    "# Save to CSV manually\n",
    "df_experiments.to_csv(output_csv, index=False)\n",
    "print(f\"Summary saved as '{output_csv}'.\")"
   ]
  },
  {
   "cell_type": "code",
   "execution_count": 2,
   "metadata": {},
   "outputs": [
    {
     "data": {
      "application/vnd.microsoft.datawrangler.viewer.v0+json": {
       "columns": [
        {
         "name": "index",
         "rawType": "int64",
         "type": "integer"
        },
        {
         "name": "Model Version",
         "rawType": "object",
         "type": "string"
        },
        {
         "name": "Trial #",
         "rawType": "object",
         "type": "string"
        },
        {
         "name": "Train Accuracy",
         "rawType": "float64",
         "type": "float"
        },
        {
         "name": "Val Accuracy",
         "rawType": "float64",
         "type": "float"
        },
        {
         "name": "Train Loss",
         "rawType": "float64",
         "type": "float"
        },
        {
         "name": "Val Loss",
         "rawType": "float64",
         "type": "float"
        },
        {
         "name": "Accuracy",
         "rawType": "float64",
         "type": "float"
        }
       ],
       "conversionMethod": "pd.DataFrame",
       "ref": "5282d021-0d3c-43c9-b500-5ac8de01ef59",
       "rows": [
        [
         "0",
         "draft_mobilenetv2",
         "1-trial",
         "1.0",
         "0.511904776096344",
         "0.0141847189515829",
         "11.079431533813477",
         "0.757"
        ],
        [
         "1",
         "draft_mobilenetv2",
         "2-trial",
         "1.0",
         "0.9976190328598022",
         "0.0982242152094841",
         "0.0935006812214851",
         "1.0"
        ],
        [
         "2",
         "draft_mobilenetv2",
         "3-trial",
         "1.0",
         "0.9976190328598022",
         "0.2313968390226364",
         "0.2264504581689834",
         "0.996"
        ],
        [
         "3",
         "draft_mobilenetv2",
         "4-trial",
         "0.99660325050354",
         "0.9857142567634584",
         "0.3549514412879944",
         "0.3755616545677185",
         "0.992"
        ],
        [
         "4",
         "draft_sigmoid",
         "1-trial",
         "0.9907660484313964",
         "0.988095223903656",
         "0.0282319951802492",
         "0.0675767362117767",
         "0.999"
        ]
       ],
       "shape": {
        "columns": 7,
        "rows": 5
       }
      },
      "text/html": [
       "<div>\n",
       "<style scoped>\n",
       "    .dataframe tbody tr th:only-of-type {\n",
       "        vertical-align: middle;\n",
       "    }\n",
       "\n",
       "    .dataframe tbody tr th {\n",
       "        vertical-align: top;\n",
       "    }\n",
       "\n",
       "    .dataframe thead th {\n",
       "        text-align: right;\n",
       "    }\n",
       "</style>\n",
       "<table border=\"1\" class=\"dataframe\">\n",
       "  <thead>\n",
       "    <tr style=\"text-align: right;\">\n",
       "      <th></th>\n",
       "      <th>Model Version</th>\n",
       "      <th>Trial #</th>\n",
       "      <th>Train Accuracy</th>\n",
       "      <th>Val Accuracy</th>\n",
       "      <th>Train Loss</th>\n",
       "      <th>Val Loss</th>\n",
       "      <th>Accuracy</th>\n",
       "    </tr>\n",
       "  </thead>\n",
       "  <tbody>\n",
       "    <tr>\n",
       "      <th>0</th>\n",
       "      <td>draft_mobilenetv2</td>\n",
       "      <td>1-trial</td>\n",
       "      <td>1.000000</td>\n",
       "      <td>0.511905</td>\n",
       "      <td>0.014185</td>\n",
       "      <td>11.079432</td>\n",
       "      <td>0.757</td>\n",
       "    </tr>\n",
       "    <tr>\n",
       "      <th>1</th>\n",
       "      <td>draft_mobilenetv2</td>\n",
       "      <td>2-trial</td>\n",
       "      <td>1.000000</td>\n",
       "      <td>0.997619</td>\n",
       "      <td>0.098224</td>\n",
       "      <td>0.093501</td>\n",
       "      <td>1.000</td>\n",
       "    </tr>\n",
       "    <tr>\n",
       "      <th>2</th>\n",
       "      <td>draft_mobilenetv2</td>\n",
       "      <td>3-trial</td>\n",
       "      <td>1.000000</td>\n",
       "      <td>0.997619</td>\n",
       "      <td>0.231397</td>\n",
       "      <td>0.226450</td>\n",
       "      <td>0.996</td>\n",
       "    </tr>\n",
       "    <tr>\n",
       "      <th>3</th>\n",
       "      <td>draft_mobilenetv2</td>\n",
       "      <td>4-trial</td>\n",
       "      <td>0.996603</td>\n",
       "      <td>0.985714</td>\n",
       "      <td>0.354951</td>\n",
       "      <td>0.375562</td>\n",
       "      <td>0.992</td>\n",
       "    </tr>\n",
       "    <tr>\n",
       "      <th>4</th>\n",
       "      <td>draft_sigmoid</td>\n",
       "      <td>1-trial</td>\n",
       "      <td>0.990766</td>\n",
       "      <td>0.988095</td>\n",
       "      <td>0.028232</td>\n",
       "      <td>0.067577</td>\n",
       "      <td>0.999</td>\n",
       "    </tr>\n",
       "  </tbody>\n",
       "</table>\n",
       "</div>"
      ],
      "text/plain": [
       "       Model Version  Trial #  Train Accuracy  Val Accuracy  Train Loss  \\\n",
       "0  draft_mobilenetv2  1-trial        1.000000      0.511905    0.014185   \n",
       "1  draft_mobilenetv2  2-trial        1.000000      0.997619    0.098224   \n",
       "2  draft_mobilenetv2  3-trial        1.000000      0.997619    0.231397   \n",
       "3  draft_mobilenetv2  4-trial        0.996603      0.985714    0.354951   \n",
       "4      draft_sigmoid  1-trial        0.990766      0.988095    0.028232   \n",
       "\n",
       "    Val Loss  Accuracy  \n",
       "0  11.079432     0.757  \n",
       "1   0.093501     1.000  \n",
       "2   0.226450     0.996  \n",
       "3   0.375562     0.992  \n",
       "4   0.067577     0.999  "
      ]
     },
     "execution_count": 2,
     "metadata": {},
     "output_type": "execute_result"
    }
   ],
   "source": [
    "import pandas as pd\n",
    "\n",
    "df = pd.read_csv(\"experiment_summary.csv\")\n",
    "df.head()  "
   ]
  }
 ],
 "metadata": {
  "kernelspec": {
   "display_name": "Python 3",
   "language": "python",
   "name": "python3"
  },
  "language_info": {
   "codemirror_mode": {
    "name": "ipython",
    "version": 3
   },
   "file_extension": ".py",
   "mimetype": "text/x-python",
   "name": "python",
   "nbconvert_exporter": "python",
   "pygments_lexer": "ipython3",
   "version": "3.10.12"
  }
 },
 "nbformat": 4,
 "nbformat_minor": 2
}
