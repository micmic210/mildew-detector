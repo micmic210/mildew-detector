{
  "cells": [
    {
      "cell_type": "markdown",
      "metadata": {
        "id": "0aStgWSO0E0E"
      },
      "source": [
        "# **Data Visualization Notebook**"
      ]
    },
    {
      "cell_type": "markdown",
      "metadata": {
        "id": "1eLEkw5O0ECa"
      },
      "source": [
        "## Objectives\n",
        "\n",
        "- Answer Business Requirement 1: Provide visual insights to differentiate between healthy and mildew-affected leaves.\n",
        "- Explore dataset composition: Visualize class distributions, pixel intensity differences, and image characteristics.\n",
        "- Assess dataset quality: Identify potential biases, imbalances, and variability in images.\n",
        "- Generate visualization outputs: Create charts, PCA plots, and image montages to support Streamlit dashboard development.\n",
        "- Guide preprocessing strategies: Support decisions regarding resizing, normalization, and augmentation.\n",
        "\n",
        "## Inputs\n",
        "\n",
        "- inputs/mildew_dataset/cherry-leaves/train\n",
        "- inputs/mildew_dataset/cherry-leaves/validation\n",
        "- inputs/mildew_dataset/cherry-leaves/test\n",
        "\n",
        "## Outputs\n",
        "\n",
        "- Dataset Overview\n",
        "  - Total image count and class distribution (Healthy vs. Infected).\n",
        "  - Image montage for dataset quality inspection.\n",
        "- Image Statistics & Analysis\n",
        "  - Average image size for preprocessing standardization.\n",
        "  - Mean and variability analysis for Healthy and Infected leaves.\n",
        "  -  Histogram of pixel intensity distribution to assess brightness differences.\n",
        "  - PCA plot to visualize class separability in feature space.\n",
        "  - Statistical t-test for pixel intensity differences between Healthy and Infected leaves.\n",
        "- Data Artifacts\n",
        "  - image_shape.pkl: Stores the average image shape for preprocessing.\n",
        "  - Visualizations saved for integration into the Streamlit dashboard.\n",
        "\n",
        "## Additional Comments\n",
        "\n",
        "- The analysis confirms that the dataset is balanced, ensuring unbiased model evaluation.\n",
        "- PCA and pixel intensity histograms reveal strong differentiating features between Healthy and Infected leaves.\n",
        "- Statistical tests validate significant brightness differences between classes.\n",
        "- These insights guide feature engineering strategies, preprocessing steps, and data augmentation techniques for model training.\n",
        "- The visual outputs will be integrated into the Streamlit dashboard for interactive exploration.\n",
        "\n"
      ]
    },
    {
      "cell_type": "markdown",
      "metadata": {
        "id": "9uWZXH9LwoQg"
      },
      "source": [
        "---"
      ]
    },
    {
      "cell_type": "markdown",
      "metadata": {
        "id": "cqP-UeN-z3i2"
      },
      "source": [
        "# Set Data Directory"
      ]
    },
    {
      "cell_type": "markdown",
      "metadata": {},
      "source": [
        "---"
      ]
    },
    {
      "cell_type": "markdown",
      "metadata": {},
      "source": [
        "## Import Necessary Packages"
      ]
    },
    {
      "cell_type": "code",
      "execution_count": null,
      "metadata": {
        "id": "wZfF_j-Bz3i4",
        "outputId": "66943449-1436-4c3d-85c7-b85f9f78349b"
      },
      "outputs": [],
      "source": [
        "import os\n",
        "import pandas as pd\n",
        "import numpy as np\n",
        "import matplotlib.pyplot as plt\n",
        "import seaborn as sns\n",
        "import joblib\n",
        "sns.set_style(\"white\")\n",
        "from matplotlib.image import imread"
      ]
    },
    {
      "cell_type": "markdown",
      "metadata": {},
      "source": [
        "## Set Working Directory"
      ]
    },
    {
      "cell_type": "code",
      "execution_count": null,
      "metadata": {},
      "outputs": [],
      "source": [
        "cwd= os.getcwd()"
      ]
    },
    {
      "cell_type": "code",
      "execution_count": null,
      "metadata": {
        "id": "TwHsQRWjz3i9",
        "outputId": "86849db3-cd2f-4cc5-ebb8-2d0caafa1a2c"
      },
      "outputs": [],
      "source": [
        "os.chdir('/workspaces/mildew-detector')\n",
        "print(\"You set a new current directory\")"
      ]
    },
    {
      "cell_type": "markdown",
      "metadata": {
        "id": "M_xPk_Ijz3i-"
      },
      "source": [
        "#### Confirm the new current directory"
      ]
    },
    {
      "cell_type": "code",
      "execution_count": null,
      "metadata": {
        "id": "vz3S-_kjz3jA",
        "outputId": "00b79ae4-75d0-4a96-d193-ac9ef9847ea2"
      },
      "outputs": [],
      "source": [
        "work_dir = os.getcwd()\n",
        "work_dir"
      ]
    },
    {
      "cell_type": "markdown",
      "metadata": {
        "id": "-mavJ8DibrcQ"
      },
      "source": [
        "## Set Input Directories"
      ]
    },
    {
      "cell_type": "code",
      "execution_count": null,
      "metadata": {},
      "outputs": [],
      "source": [
        "# Set input directories\n",
        "my_data_dir = 'inputs/mildew_dataset/cherry-leaves'\n",
        "train_path = os.path.join(my_data_dir, 'train')\n",
        "val_path = os.path.join(my_data_dir, 'validation')\n",
        "test_path = os.path.join(my_data_dir, 'test')"
      ]
    },
    {
      "cell_type": "markdown",
      "metadata": {},
      "source": [
        "## Set Output Directory"
      ]
    },
    {
      "cell_type": "code",
      "execution_count": null,
      "metadata": {},
      "outputs": [],
      "source": [
        "version = 'v1'\n",
        "file_path = f'outputs/{version}'\n",
        "\n",
        "if 'outputs' in os.listdir(work_dir) and version in os.listdir(work_dir + '/outputs'):\n",
        "    print('Old version is already available create a new version.')\n",
        "    pass\n",
        "else:\n",
        "    os.makedirs(name=file_path)"
      ]
    },
    {
      "cell_type": "markdown",
      "metadata": {},
      "source": [
        "## Set Label Names"
      ]
    },
    {
      "cell_type": "code",
      "execution_count": null,
      "metadata": {},
      "outputs": [],
      "source": [
        "# Set the labels for the images\n",
        "labels = os.listdir(train_path)\n",
        "print('Label for the images are', labels)"
      ]
    },
    {
      "cell_type": "markdown",
      "metadata": {},
      "source": [
        "---"
      ]
    },
    {
      "cell_type": "markdown",
      "metadata": {},
      "source": [
        "# Dataset Overview & Class Distribution"
      ]
    },
    {
      "cell_type": "markdown",
      "metadata": {},
      "source": [
        "---"
      ]
    },
    {
      "cell_type": "markdown",
      "metadata": {},
      "source": [
        "## Count Total Number of Images per Class"
      ]
    },
    {
      "cell_type": "code",
      "execution_count": null,
      "metadata": {},
      "outputs": [],
      "source": [
        "import os\n",
        "\n",
        "sets = ['train', 'test', 'validation']\n",
        "labels = ['Healthy', 'Infected']  \n",
        "\n",
        "for set_name in sets:\n",
        "    for label in labels:\n",
        "        path = f'inputs/mildew_dataset/cherry-leaves/{set_name}/{label}' \n",
        "        try:\n",
        "            number_of_files = len(os.listdir(path))\n",
        "            print(f'There are {number_of_files} images in {set_name}/{label}')\n",
        "        except FileNotFoundError:\n",
        "            print(f\"Error: Directory '{path}' not found.\")\n",
        "\n",
        "# Calculate and print total number of images\n",
        "total_images = 0\n",
        "for set_name in sets:\n",
        "    for label in labels:\n",
        "        path = f'inputs/mildew_dataset/cherry-leaves/{set_name}/{label}'  \n",
        "        try:\n",
        "            total_images += len(os.listdir(path))\n",
        "        except FileNotFoundError:\n",
        "            pass\n",
        "print(f\"\\nTotal number of images: {total_images}\")"
      ]
    },
    {
      "cell_type": "markdown",
      "metadata": {},
      "source": [
        "## Bar Chart: Displays Number of Images Per Class (Healthy vs. Infected)"
      ]
    },
    {
      "cell_type": "code",
      "execution_count": null,
      "metadata": {},
      "outputs": [],
      "source": [
        "import os\n",
        "import matplotlib.pyplot as plt\n",
        "\n",
        "# Define dataset path\n",
        "dataset_path = \"inputs/mildew_dataset/cherry-leaves\"\n",
        "\n",
        "# Count total images for each class (Healthy & Infected) across all dataset splits\n",
        "healthy_count = sum(len(os.listdir(os.path.join(dataset_path, split, \"Healthy\"))) for split in [\"train\", \"validation\", \"test\"])\n",
        "infected_count = sum(len(os.listdir(os.path.join(dataset_path, split, \"Infected\"))) for split in [\"train\", \"validation\", \"test\"])\n",
        "\n",
        "# Plot bar chart\n",
        "plt.bar([\"Healthy\", \"Infected\"], [healthy_count, infected_count], color=[\"blue\", \"orange\"])\n",
        "plt.title(\"Total Number of Leaves: Healthy vs. Infected\")\n",
        "plt.ylabel(\"Number of Images\")\n",
        "plt.show()"
      ]
    },
    {
      "cell_type": "markdown",
      "metadata": {},
      "source": [
        "---"
      ]
    },
    {
      "cell_type": "markdown",
      "metadata": {},
      "source": [
        "## Sample Image Preview"
      ]
    },
    {
      "cell_type": "markdown",
      "metadata": {},
      "source": [
        "---"
      ]
    },
    {
      "cell_type": "code",
      "execution_count": null,
      "metadata": {},
      "outputs": [],
      "source": [
        "import matplotlib.pyplot as plt\n",
        "import random\n",
        "from tensorflow.keras.preprocessing import image\n",
        "\n",
        "# Display Sample Images from Healthy and Infected Classes\n",
        "def display_sample_images(dataset_path, labels, n_images=5, img_size=(128, 128)):\n",
        "    fig, axes = plt.subplots(2, n_images, figsize=(12, 6))\n",
        "    \n",
        "    for i, label in enumerate(labels):\n",
        "        label_path = os.path.join(dataset_path, label)\n",
        "        sample_images = random.sample(os.listdir(label_path), n_images)\n",
        "        \n",
        "        for j, img_name in enumerate(sample_images):\n",
        "            img_path = os.path.join(label_path, img_name)\n",
        "            img = image.load_img(img_path, target_size=img_size)\n",
        "            axes[i, j].imshow(img)\n",
        "            axes[i, j].axis(\"off\")\n",
        "            axes[i, j].set_title(label)\n",
        "\n",
        "    plt.tight_layout()\n",
        "    plt.show()\n",
        "\n",
        "# Run the function for test set images\n",
        "display_sample_images(test_path, labels, n_images=5, img_size=(128, 128))"
      ]
    },
    {
      "cell_type": "markdown",
      "metadata": {
        "id": "ZY3l0-AxO93d"
      },
      "source": [
        "---"
      ]
    },
    {
      "cell_type": "markdown",
      "metadata": {
        "id": "uFQo3ycuO-v6"
      },
      "source": [
        "# Data Visualization of Image Data"
      ]
    },
    {
      "cell_type": "markdown",
      "metadata": {},
      "source": [
        "---"
      ]
    },
    {
      "cell_type": "markdown",
      "metadata": {},
      "source": [
        "## Image Shape"
      ]
    },
    {
      "cell_type": "markdown",
      "metadata": {},
      "source": [
        "- Compute average image dimensions in the training set.\n",
        "- Ensure consistency for model preprocessing."
      ]
    },
    {
      "cell_type": "code",
      "execution_count": null,
      "metadata": {},
      "outputs": [],
      "source": [
        "import plotly.express as px\n",
        "from matplotlib.image import imread\n",
        "\n",
        "# Compute image dimensions\n",
        "dim1, dim2 = [], []\n",
        "for label in labels:\n",
        "    for image_filename in os.listdir(os.path.join(train_path, label)):\n",
        "        img = imread(os.path.join(train_path, label, image_filename))\n",
        "        d1, d2, colors = img.shape\n",
        "        dim1.append(d1)  # Image height\n",
        "        dim2.append(d2)  # Image width\n",
        "\n",
        "# Convert to NumPy array for easier calculations\n",
        "dim1 = np.array(dim1)\n",
        "dim2 = np.array(dim2)\n",
        "\n",
        "# Compute average dimensions\n",
        "dim1_mean = int(dim1.mean())\n",
        "dim2_mean = int(dim2.mean())\n",
        "\n",
        "# Create an interactive scatter plot\n",
        "fig = px.scatter(\n",
        "    x=dim2, y=dim1, opacity=0.5,\n",
        "    labels={'x': \"Width (pixels)\", 'y': \"Height (pixels)\"},\n",
        "    title=\"Image Dimensions Scatter Plot\"\n",
        ")\n",
        "\n",
        "# Add mean lines\n",
        "fig.add_vline(x=dim2_mean, line_dash=\"dash\", line_color=\"red\", annotation_text=f\"Avg Width: {dim2_mean}px\")\n",
        "fig.add_hline(y=dim1_mean, line_dash=\"dash\", line_color=\"red\", annotation_text=f\"Avg Height: {dim1_mean}px\")\n",
        "\n",
        "# Show interactive plot\n",
        "fig.show()\n",
        "\n",
        "# Print average values\n",
        "print(f\"Width average: {dim2_mean} \\nHeight average: {dim1_mean}\")"
      ]
    },
    {
      "cell_type": "markdown",
      "metadata": {},
      "source": [
        "- The **average image size** is **256x256**, but images will be **rescaled to 128x128** for **computational efficiency**."
      ]
    },
    {
      "cell_type": "code",
      "execution_count": null,
      "metadata": {},
      "outputs": [],
      "source": [
        "image_shape = (128, 128, 3)\n",
        "image_shape"
      ]
    },
    {
      "cell_type": "markdown",
      "metadata": {},
      "source": [
        "## Save the Image Shape Embeddings"
      ]
    },
    {
      "cell_type": "code",
      "execution_count": null,
      "metadata": {},
      "outputs": [],
      "source": [
        "joblib.dump(value=image_shape ,\n",
        "            filename=f\"{file_path}/image_shape.pkl\")"
      ]
    },
    {
      "cell_type": "markdown",
      "metadata": {},
      "source": [
        "---"
      ]
    },
    {
      "cell_type": "markdown",
      "metadata": {},
      "source": [
        "# Average and Variability of Images per Label"
      ]
    },
    {
      "cell_type": "markdown",
      "metadata": {},
      "source": [
        "---"
      ]
    },
    {
      "cell_type": "markdown",
      "metadata": {},
      "source": [
        "- To compute and visualize mean image representations and variability across labels.\n",
        "- To identify statistical differences between Healthy and Infected leaves."
      ]
    },
    {
      "cell_type": "markdown",
      "metadata": {},
      "source": [
        "## Function to Load Images in an Array (Tensor)"
      ]
    },
    {
      "cell_type": "code",
      "execution_count": null,
      "metadata": {},
      "outputs": [],
      "source": [
        "from tensorflow.keras.preprocessing import image\n",
        "\n",
        "def load_image_as_array(my_data_dir, new_size=image_shape[:2], n_images_per_label=20):\n",
        "    \"\"\"\n",
        "    Loads images, resizes them, and returns them as arrays with labels.\n",
        "    \"\"\"\n",
        "    X, y = np.array([], dtype='int'), np.array([], dtype='object')\n",
        "    labels = os.listdir(my_data_dir)\n",
        "\n",
        "    for label in labels:\n",
        "        counter = 0\n",
        "        for image_filename in os.listdir(my_data_dir + '/' + label):\n",
        "            if counter < n_images_per_label:\n",
        "                img = image.load_img(\n",
        "                    my_data_dir + '/' + label + '/' + image_filename, \n",
        "                    target_size=new_size)  # (height, width)\n",
        "\n",
        "                img_resized = image.img_to_array(img) / 255  # Normalize pixel values\n",
        "\n",
        "                # Append image data and reshape correctly\n",
        "                X = np.append(X, img_resized).reshape(-1, new_size[0], new_size[1], img_resized.shape[2])\n",
        "                y = np.append(y, label)\n",
        "                counter += 1\n",
        "\n",
        "    return X, y"
      ]
    },
    {
      "cell_type": "markdown",
      "metadata": {},
      "source": [
        "## Load Image Shapes and Labels in an Array"
      ]
    },
    {
      "cell_type": "code",
      "execution_count": null,
      "metadata": {},
      "outputs": [],
      "source": [
        "X, y = load_image_as_array(my_data_dir=train_path,\n",
        "                           new_size=image_shape,\n",
        "                           n_images_per_label=30)\n",
        "print(X.shape, y.shape)"
      ]
    },
    {
      "cell_type": "markdown",
      "metadata": {},
      "source": [
        "## Plot and Save Mean and Variability of Images per Label"
      ]
    },
    {
      "cell_type": "markdown",
      "metadata": {},
      "source": [
        "- Computes the average image for each class.\n",
        "- Displays the variability (standard deviation) of pixel intensities within each class."
      ]
    },
    {
      "cell_type": "code",
      "execution_count": null,
      "metadata": {},
      "outputs": [],
      "source": [
        "def plot_mean_variability_per_labels(X, y, figsize=(12, 5), save_image=False):\n",
        "    \"\"\"\n",
        "    The pseudo-code for the function is:\n",
        "    * Iterate through all unique labels in the dataset.\n",
        "    * Filter the dataset to include only images corresponding to the current label.\n",
        "    * Calculate the mean and standard deviation for the filtered subset.\n",
        "    * Create a figure with two subplots:\n",
        "        - One displaying the mean image for the label.\n",
        "        - The other showing the variability (standard deviation) image.\n",
        "    * Optionally save the generated plots to the specified directory.\n",
        "    \"\"\"\n",
        "\n",
        "    for label_to_display in np.unique(y):\n",
        "        sns.set_style(\"white\")  # Set the plot style\n",
        "\n",
        "        # Create a boolean mask to filter images for the current label\n",
        "        boolean_mask = (y == label_to_display)\n",
        "        arr = X[boolean_mask]\n",
        "\n",
        "        # Compute the mean image and standard deviation image for the current label\n",
        "        avg_img = np.mean(arr, axis=0)\n",
        "        std_img = np.std(arr, axis=0)\n",
        "\n",
        "        print(f\"==== Label {label_to_display} ====\")\n",
        "        print(f\"Image Shape: {avg_img.shape}\")\n",
        "\n",
        "        # Create a figure to display the average and variability images\n",
        "        fig, axes = plt.subplots(nrows=1, ncols=2, figsize=figsize)\n",
        "        axes[0].set_title(f\"Average image for label {label_to_display}\")\n",
        "        if avg_img.shape[-1] == 3:  # Check if RGB\n",
        "            axes[0].imshow(avg_img)  # No cmap for RGB\n",
        "            axes[1].imshow(std_img)\n",
        "        else:  # Grayscale\n",
        "            axes[0].imshow(avg_img, cmap='gray')\n",
        "            axes[1].imshow(std_img, cmap='gray')\n",
        "\n",
        "        axes[1].set_title(f\"Variability image for label {label_to_display}\")\n",
        "\n",
        "        # Save or display the figure based on the `save_image` argument\n",
        "        if save_image:\n",
        "            plt.savefig(f\"{file_path}/avg_var_{label_to_display}.png\",\n",
        "                        bbox_inches='tight', dpi=150)\n",
        "        else:\n",
        "            plt.tight_layout()  # Adjust layout for better spacing\n",
        "            plt.show()\n",
        "        print(\"\\n\")"
      ]
    },
    {
      "cell_type": "code",
      "execution_count": null,
      "metadata": {},
      "outputs": [],
      "source": [
        "plot_mean_variability_per_labels(X=X, y=y, figsize=(12, 5), save_image=True)"
      ]
    },
    {
      "cell_type": "markdown",
      "metadata": {},
      "source": [
        "---"
      ]
    },
    {
      "cell_type": "markdown",
      "metadata": {},
      "source": [
        "# Difference Between Average Healthy vs. Infected Cell Images"
      ]
    },
    {
      "cell_type": "markdown",
      "metadata": {},
      "source": [
        "---"
      ]
    },
    {
      "cell_type": "markdown",
      "metadata": {},
      "source": [
        "- Identify visual differences between Healthy and Infected leaves.\n",
        "- Generate mean image comparisons for class differentiation."
      ]
    },
    {
      "cell_type": "code",
      "execution_count": null,
      "metadata": {},
      "outputs": [],
      "source": [
        "def subset_image_label(X, y, label_to_display):\n",
        "    \"\"\"\n",
        "    Filters the dataset to include only the images that belong to a specific label.\n",
        "    \"\"\"\n",
        "    # Create a boolean mask to filter for the given label\n",
        "    boolean_mask = (y == label_to_display)\n",
        "    df = X[boolean_mask]  # Subset the dataset\n",
        "    return df\n",
        "\n",
        "\n",
        "def diff_bet_avg_image_labels_data_as_array(X, y, label_1, label_2, figsize=(12, 10), save_image=False):\n",
        "    \"\"\"\n",
        "    Compares the average images between two specified labels.\n",
        "    \"\"\"\n",
        "    sns.set_style(\"white\")\n",
        "\n",
        "    # Calculate mean images\n",
        "    label1_avg = np.mean(X[y == label_1], axis=0)\n",
        "    label2_avg = np.mean(X[y == label_2], axis=0)\n",
        "\n",
        "    # **Fix Clipping Issue**\n",
        "    difference_mean = np.clip(label1_avg - label2_avg, 0, 1)  # Clipping Fix\n",
        "\n",
        "    # Create subplots\n",
        "    fig, axes = plt.subplots(nrows=1, ncols=3, figsize=figsize)\n",
        "\n",
        "    # Determine if the images are RGB or Grayscale\n",
        "    is_rgb = label1_avg.shape[-1] == 3\n",
        "\n",
        "    axes[0].imshow(label1_avg if is_rgb else label1_avg, cmap=None if is_rgb else 'gray')\n",
        "    axes[0].set_title(f'Average {label_1}')\n",
        "\n",
        "    axes[1].imshow(label2_avg if is_rgb else label2_avg, cmap=None if is_rgb else 'gray')\n",
        "    axes[1].set_title(f'Average {label_2}')\n",
        "\n",
        "    axes[2].imshow(difference_mean if is_rgb else difference_mean, cmap=None if is_rgb else 'gray')\n",
        "    axes[2].set_title(f'Difference image: Avg {label_1} & {label_2}')\n",
        "\n",
        "    # Save or display the figure\n",
        "    if save_image:\n",
        "        plt.savefig(f\"{file_path}/avg_diff.png\", bbox_inches='tight', dpi=150)\n",
        "    else:\n",
        "        plt.tight_layout()\n",
        "        plt.show()"
      ]
    },
    {
      "cell_type": "code",
      "execution_count": null,
      "metadata": {},
      "outputs": [],
      "source": [
        "diff_bet_avg_image_labels_data_as_array(X=X, y=y,\n",
        "                                        label_1='Healthy', label_2='Infected',\n",
        "                                        figsize=(12, 10),\n",
        "                                        save_image=True\n",
        "                                        )"
      ]
    },
    {
      "cell_type": "markdown",
      "metadata": {},
      "source": []
    },
    {
      "cell_type": "markdown",
      "metadata": {},
      "source": [
        "### Counts image files within a directory structure, handling missing directories and providing a total count"
      ]
    },
    {
      "cell_type": "code",
      "execution_count": null,
      "metadata": {},
      "outputs": [],
      "source": [
        "import os\n",
        "\n",
        "sets = ['train', 'test', 'validation']\n",
        "labels = ['Healthy', 'Infected']  \n",
        "\n",
        "for set_name in sets:\n",
        "    for label in labels:\n",
        "        path = f'inputs/mildew_dataset/cherry-leaves/{set_name}/{label}' \n",
        "        try:\n",
        "            number_of_files = len(os.listdir(path))\n",
        "            print(f'There are {number_of_files} images in {set_name}/{label}')\n",
        "        except FileNotFoundError:\n",
        "            print(f\"Error: Directory '{path}' not found.\")\n",
        "\n",
        "# Calculate and print total number of images\n",
        "total_images = 0\n",
        "for set_name in sets:\n",
        "    for label in labels:\n",
        "        path = f'inputs/mildew_dataset/cherry-leaves/{set_name}/{label}'  \n",
        "        try:\n",
        "            total_images += len(os.listdir(path))\n",
        "        except FileNotFoundError:\n",
        "            pass\n",
        "print(f\"\\nTotal number of images: {total_images}\")"
      ]
    },
    {
      "cell_type": "markdown",
      "metadata": {},
      "source": [
        "---"
      ]
    },
    {
      "cell_type": "markdown",
      "metadata": {},
      "source": [
        "# Dataset Distribution & Image Characteristics"
      ]
    },
    {
      "cell_type": "markdown",
      "metadata": {},
      "source": [
        "---"
      ]
    },
    {
      "cell_type": "markdown",
      "metadata": {},
      "source": [
        "- To analyze the distribution of images across the dataset (train, validation, and test).\n",
        "- To detect potential class imbalances that may impact model training."
      ]
    },
    {
      "cell_type": "code",
      "execution_count": null,
      "metadata": {},
      "outputs": [],
      "source": [
        "import pandas as pd\n",
        "import seaborn as sns\n",
        "import matplotlib.pyplot as plt\n",
        "import os\n",
        "import plotly.express as px\n",
        "from ipywidgets import interactive, Dropdown, VBox, Button\n",
        "\n",
        "# Create output directory\n",
        "output_dir = \"outputs/v1\"\n",
        "os.makedirs(output_dir, exist_ok=True)\n",
        "\n",
        "\n",
        "def interactive_dataset_distribution(my_data_dir, labels):\n",
        "    \"\"\"\n",
        "    Interactive dataset distribution visualization using bar and pie charts.\n",
        "    \"\"\"\n",
        "    data = {\"Set\": [], \"Label\": [], \"Frequency\": []}\n",
        "    folders = [\"train\", \"validation\", \"test\"]\n",
        "\n",
        "    for folder in folders:\n",
        "        for label in labels:\n",
        "            row = {\n",
        "                \"Set\": folder,\n",
        "                \"Label\": label,\n",
        "                \"Frequency\": int(\n",
        "                    len(os.listdir(os.path.join(my_data_dir, folder, label)))\n",
        "                ),\n",
        "            }\n",
        "            for key, value in row.items():\n",
        "                data[key].append(value)\n",
        "\n",
        "    df_freq = pd.DataFrame(data)\n",
        "\n",
        "    def update(chart_type):\n",
        "        global fig  # Ensure fig is accessible in save_image()\n",
        "        if chart_type == \"Bar Chart\":\n",
        "            fig = px.bar(\n",
        "                df_freq,\n",
        "                x=\"Set\",\n",
        "                y=\"Frequency\",\n",
        "                color=\"Label\",\n",
        "                barmode=\"group\",\n",
        "                title=\"Image Distribution in Dataset\",\n",
        "            )\n",
        "        else:\n",
        "            label_distribution = df_freq.groupby(\"Label\")[\"Frequency\"].sum()\n",
        "            fig = px.pie(\n",
        "                names=label_distribution.index,\n",
        "                values=label_distribution.values,\n",
        "                title=\"Overall Class Distribution (Healthy vs Infected)\",\n",
        "                color_discrete_sequence=[\"#1f77b4\", \"#ff7f0e\"],\n",
        "            )\n",
        "        fig.show()\n",
        "\n",
        "    def save_image(_):\n",
        "        save_path = os.path.join(output_dir, \"dataset_distribution.png\")\n",
        "        fig.write_image(save_path)\n",
        "        print(f\"Dataset distribution plot saved at: {save_path}\")\n",
        "\n",
        "    # Interactive widget setup\n",
        "    chart_selector = Dropdown(\n",
        "        options=[\"Bar Chart\", \"Pie Chart\"],\n",
        "        description=\"Chart Type\",\n",
        "    )\n",
        "\n",
        "    save_button = Button(description=\"Save Image\")\n",
        "    save_button.on_click(save_image)\n",
        "\n",
        "    # Create interactive UI\n",
        "    widget_ui = interactive(update, chart_type=chart_selector)\n",
        "\n",
        "    # Display the UI\n",
        "    display(VBox([widget_ui, save_button]))\n",
        "\n",
        "\n",
        "# Run interactive dataset distribution visualization\n",
        "interactive_dataset_distribution(my_data_dir, labels)"
      ]
    },
    {
      "cell_type": "markdown",
      "metadata": {},
      "source": [
        "**Remarks**\n",
        "\n",
        "- The dataset appears balanced across the training, validation, and test sets.\n",
        "- This ensures no strong bias toward one class, which is important for fair model training."
      ]
    },
    {
      "cell_type": "markdown",
      "metadata": {},
      "source": [
        "## Sample Image Preview"
      ]
    },
    {
      "cell_type": "code",
      "execution_count": null,
      "metadata": {},
      "outputs": [],
      "source": [
        "import matplotlib.pyplot as plt\n",
        "import random\n",
        "from tensorflow.keras.preprocessing import image\n",
        "\n",
        "# Display Sample Images from Healthy and Infected Classes\n",
        "def display_sample_images(dataset_path, labels, n_images=5, img_size=(128, 128)):\n",
        "    fig, axes = plt.subplots(2, n_images, figsize=(12, 6))\n",
        "    \n",
        "    for i, label in enumerate(labels):\n",
        "        label_path = os.path.join(dataset_path, label)\n",
        "        sample_images = random.sample(os.listdir(label_path), n_images)\n",
        "        \n",
        "        for j, img_name in enumerate(sample_images):\n",
        "            img_path = os.path.join(label_path, img_name)\n",
        "            img = image.load_img(img_path, target_size=img_size)\n",
        "            axes[i, j].imshow(img)\n",
        "            axes[i, j].axis(\"off\")\n",
        "            axes[i, j].set_title(label)\n",
        "\n",
        "    plt.tight_layout()\n",
        "    plt.show()\n",
        "\n",
        "# Run the function for test set images\n",
        "display_sample_images(test_path, labels, n_images=5, img_size=(128, 128))"
      ]
    },
    {
      "cell_type": "markdown",
      "metadata": {},
      "source": [
        "# Comparing Healthy vs. Infected Leaves"
      ]
    },
    {
      "cell_type": "markdown",
      "metadata": {},
      "source": [
        "- Identify visual differences between Healthy and Infected leaves.\n",
        "- Generate mean image comparisons for class differentiation."
      ]
    },
    {
      "cell_type": "code",
      "execution_count": null,
      "metadata": {},
      "outputs": [],
      "source": [
        "def subset_image_label(X, y, label_to_display):\n",
        "    \"\"\"\n",
        "    Filters the dataset to include only the images that belong to a specific label.\n",
        "    \"\"\"\n",
        "    # Create a boolean mask to filter for the given label\n",
        "    boolean_mask = (y == label_to_display)\n",
        "    df = X[boolean_mask]  # Subset the dataset\n",
        "    return df\n",
        "\n",
        "\n",
        "def diff_bet_avg_image_labels_data_as_array(X, y, label_1, label_2, figsize=(12, 10), save_image=False):\n",
        "    \"\"\"\n",
        "    Compares the average images between two specified labels.\n",
        "    \"\"\"\n",
        "    sns.set_style(\"white\")\n",
        "\n",
        "    # Calculate mean images\n",
        "    label1_avg = np.mean(X[y == label_1], axis=0)\n",
        "    label2_avg = np.mean(X[y == label_2], axis=0)\n",
        "\n",
        "    # **Fix Clipping Issue**\n",
        "    difference_mean = np.clip(label1_avg - label2_avg, 0, 1)  # Clipping Fix\n",
        "\n",
        "    # Create subplots\n",
        "    fig, axes = plt.subplots(nrows=1, ncols=3, figsize=figsize)\n",
        "\n",
        "    # Determine if the images are RGB or Grayscale\n",
        "    is_rgb = label1_avg.shape[-1] == 3\n",
        "\n",
        "    axes[0].imshow(label1_avg if is_rgb else label1_avg, cmap=None if is_rgb else 'gray')\n",
        "    axes[0].set_title(f'Average {label_1}')\n",
        "\n",
        "    axes[1].imshow(label2_avg if is_rgb else label2_avg, cmap=None if is_rgb else 'gray')\n",
        "    axes[1].set_title(f'Average {label_2}')\n",
        "\n",
        "    axes[2].imshow(difference_mean if is_rgb else difference_mean, cmap=None if is_rgb else 'gray')\n",
        "    axes[2].set_title(f'Difference image: Avg {label_1} & {label_2}')\n",
        "\n",
        "    # Save or display the figure\n",
        "    if save_image:\n",
        "        plt.savefig(f\"{file_path}/avg_diff.png\", bbox_inches='tight', dpi=150)\n",
        "    else:\n",
        "        plt.tight_layout()\n",
        "        plt.show()"
      ]
    },
    {
      "cell_type": "code",
      "execution_count": null,
      "metadata": {},
      "outputs": [],
      "source": [
        "diff_bet_avg_image_labels_data_as_array(X=X, y=y,\n",
        "                                        label_1='Healthy', label_2='Infected',\n",
        "                                        figsize=(12, 10),\n",
        "                                        save_image=True\n",
        "                                        )"
      ]
    },
    {
      "cell_type": "markdown",
      "metadata": {},
      "source": [
        "## Image Montage"
      ]
    },
    {
      "cell_type": "code",
      "execution_count": null,
      "metadata": {},
      "outputs": [],
      "source": [
        "import itertools\n",
        "import random\n",
        "sns.set_style(\"white\")\n",
        "\n",
        "\n",
        "def image_montage(dir_path, label_to_display, nrows, ncols, figsize=(15, 10)):\n",
        "    \"\"\"\n",
        "    - Verify if the specified label exists in the directory.\n",
        "    - Ensure the grid size (nrows * ncols) does not exceed the number of available images.\n",
        "    - Select random images to fill the montage grid\n",
        "    - Create a figure to display the images, loading and plotting each in the respective grid space.\n",
        "    \"\"\"\n",
        "\n",
        "    labels = os.listdir(dir_path)\n",
        "\n",
        "    # Check if the specified label exists in the directory\n",
        "    if label_to_display in labels:\n",
        "\n",
        "        # Validate that the montage grid can fit the available images\n",
        "        images_list = os.listdir(dir_path + '/' + label_to_display)\n",
        "        if nrows * ncols <= len(images_list):  \n",
        "            img_idx = random.sample(images_list, nrows * ncols)\n",
        "        else:\n",
        "            print(\n",
        "                f\"Reduce the number of rows or columns for the montage. \\n\"\n",
        "                f\"There are only {len(images_list)} images available. \"\n",
        "                f\"You requested a grid for {nrows * ncols} images.\")\n",
        "            return\n",
        "\n",
        "        # Generate grid indices based on the number of rows and columns\n",
        "        list_rows = range(0, nrows)\n",
        "        list_cols = range(0, ncols)\n",
        "        plot_idx = list(itertools.product(list_rows, list_cols))\n",
        "\n",
        "        # Create a figure and populate it with the selected images\n",
        "        fig, axes = plt.subplots(nrows=nrows, ncols=ncols, figsize=figsize)\n",
        "        for x in range(0, nrows * ncols):\n",
        "            img = imread(dir_path + '/' + label_to_display + '/' + img_idx[x])\n",
        "            img_shape = img.shape\n",
        "            axes[plot_idx[x][0], plot_idx[x][1]].imshow(img)\n",
        "            axes[plot_idx[x][0], plot_idx[x][1]].set_title(\n",
        "                f\"Width: {img_shape[1]}px, Height: {img_shape[0]}px\")\n",
        "            axes[plot_idx[x][0], plot_idx[x][1]].set_xticks([])\n",
        "            axes[plot_idx[x][0], plot_idx[x][1]].set_yticks([])\n",
        "        plt.tight_layout()\n",
        "        plt.show()\n",
        "        plt.close(fig)  \n",
        "\n",
        "    else:\n",
        "        # Notify the user if the selected label does not exist\n",
        "        print(f\"The selected label '{label_to_display}' does not exist.\")\n",
        "        print(f\"Available labels are: {labels}\")"
      ]
    },
    {
      "cell_type": "markdown",
      "metadata": {},
      "source": [
        "## Run Montage"
      ]
    },
    {
      "cell_type": "markdown",
      "metadata": {},
      "source": [
        "- The image montage provides an overview of dataset diversity.\n",
        "- This is useful for visual quality checks before model training."
      ]
    },
    {
      "cell_type": "code",
      "execution_count": null,
      "metadata": {},
      "outputs": [],
      "source": [
        "for label in labels:\n",
        "    print(label)\n",
        "    image_montage(dir_path=train_path,\n",
        "                  label_to_display=label,\n",
        "                  nrows=3, ncols=3,\n",
        "                  figsize=(10, 15)\n",
        "                  )\n",
        "    print(\"\\n\")"
      ]
    },
    {
      "cell_type": "markdown",
      "metadata": {},
      "source": [
        "---"
      ]
    },
    {
      "cell_type": "markdown",
      "metadata": {},
      "source": [
        "# Statistical Testing"
      ]
    },
    {
      "cell_type": "markdown",
      "metadata": {},
      "source": [
        "---"
      ]
    },
    {
      "cell_type": "markdown",
      "metadata": {},
      "source": [
        "- Apply statistical tests to verify feature differences between classes."
      ]
    },
    {
      "cell_type": "markdown",
      "metadata": {},
      "source": [
        "**t-test on image brightness** – Determines if brightness differences between Healthy and Infected leaves are statistically significant."
      ]
    },
    {
      "cell_type": "code",
      "execution_count": null,
      "metadata": {},
      "outputs": [],
      "source": [
        "from scipy.stats import ttest_ind\n",
        "import numpy as np\n",
        "from tensorflow.keras.preprocessing.image import img_to_array, load_img\n",
        "\n",
        "# Paths to image data\n",
        "test_healthy_dir = os.path.join(test_path, \"Healthy\")\n",
        "test_infected_dir = os.path.join(test_path, \"Infected\")\n",
        "\n",
        "# List of images (50 from each class)\n",
        "healthy_images = [os.path.join(test_healthy_dir, img) for img in os.listdir(test_healthy_dir)[:50]]\n",
        "infected_images = [os.path.join(test_infected_dir, img) for img in os.listdir(test_infected_dir)[:50]]\n",
        "\n",
        "def preprocess_grayscale(image_path, target_size=(128, 128)):\n",
        "    img = load_img(image_path, target_size=target_size, color_mode=\"grayscale\")\n",
        "    img_array = img_to_array(img) / 255.0  # Normalize\n",
        "    return img_array.flatten()  \n",
        "\n",
        "healthy_data = np.array([preprocess_grayscale(img) for img in healthy_images])\n",
        "infected_data = np.array([preprocess_grayscale(img) for img in infected_images])\n",
        "\n",
        "# Perform t-test\n",
        "t_stat, p_value = ttest_ind(healthy_data.flatten(), infected_data.flatten())\n",
        "\n",
        "# Display results\n",
        "print(f\"t-statistic: {t_stat:.4f}\")\n",
        "print(f\"p-value: {p_value:.4e}\")\n",
        "\n",
        "if p_value < 0.05:\n",
        "    print(\"There is a significant difference in pixel intensity distributions.\")\n",
        "else:\n",
        "    print(\"No statistically significant difference between classes.\")"
      ]
    },
    {
      "cell_type": "markdown",
      "metadata": {},
      "source": [
        "**Remarks**\n",
        "\n",
        "- The t-test confirms a statistically significant difference in brightness between Healthy and Infected leaves (p-value < 0.05).\n",
        "- This suggests that brightness features may be useful in classification."
      ]
    },
    {
      "cell_type": "markdown",
      "metadata": {},
      "source": [
        "---"
      ]
    },
    {
      "cell_type": "markdown",
      "metadata": {},
      "source": [
        "# Feature Space Visualization"
      ]
    },
    {
      "cell_type": "markdown",
      "metadata": {},
      "source": [
        "---"
      ]
    },
    {
      "cell_type": "markdown",
      "metadata": {},
      "source": [
        "### PCA Scatter Plot of Class Separability"
      ]
    },
    {
      "cell_type": "markdown",
      "metadata": {},
      "source": [
        "- This helps us understand if our raw dataset has clear separability before training. We’ll revisit feature space separability using t-SNE after training to see how well the model learns."
      ]
    },
    {
      "cell_type": "code",
      "execution_count": null,
      "metadata": {},
      "outputs": [],
      "source": [
        "from sklearn.decomposition import PCA\n",
        "import plotly.express as px\n",
        "import numpy as np\n",
        "import os\n",
        "import pandas as pd\n",
        "from ipywidgets import interactive, IntSlider, VBox, Button\n",
        "\n",
        "# Create output directory\n",
        "output_dir = \"outputs/v1\"\n",
        "os.makedirs(output_dir, exist_ok=True)\n",
        "\n",
        "\n",
        "def interactive_pca(X, y, label_map):\n",
        "    \"\"\"\n",
        "    Interactive PCA visualization with saving feature.\n",
        "    \"\"\"\n",
        "    X_flat = X.reshape(len(X), -1)  # Flatten images for PCA\n",
        "\n",
        "    output_image = {\"current\": None}\n",
        "\n",
        "    def update(n_components):\n",
        "        pca = PCA(n_components=n_components)\n",
        "        X_pca = pca.fit_transform(X_flat)\n",
        "        df_pca = pd.DataFrame(X_pca, columns=[f\"PC{i+1}\" for i in range(n_components)])\n",
        "        df_pca[\"label\"] = [label_map[i] for i in y]\n",
        "\n",
        "        fig = px.scatter(\n",
        "            df_pca,\n",
        "            x=\"PC1\",\n",
        "            y=\"PC2\",\n",
        "            color=\"label\",\n",
        "            title=f\"PCA Visualization (n_components={n_components})\",\n",
        "        )\n",
        "        fig.show()\n",
        "\n",
        "        # Store the last generated figure\n",
        "        output_image[\"current\"] = fig\n",
        "\n",
        "    def save_image(_):\n",
        "        if output_image[\"current\"] is not None:\n",
        "            save_path = os.path.join(output_dir, \"pca_plot.png\")\n",
        "            output_image[\"current\"].write_image(save_path)\n",
        "            print(f\"PCA plot saved at: {save_path}\")\n",
        "        else:\n",
        "            print(\"⚠ No image to save. Please generate a PCA plot first.\")\n",
        "\n",
        "    save_button = Button(description=\"Save Image\")\n",
        "    save_button.on_click(save_image)\n",
        "\n",
        "    interactive_widget = interactive(\n",
        "        update,\n",
        "        n_components=IntSlider(min=2, max=10, step=1, value=2, description=\"Components\"),\n",
        "    )\n",
        "\n",
        "    display(VBox([interactive_widget, save_button]))\n",
        "\n",
        "\n",
        "# Define label_map dynamically based on unique labels in y\n",
        "unique_labels = np.unique(y)  # Get unique label IDs\n",
        "label_names = [\"Healthy\", \"Infected\"]  \n",
        "\n",
        "# Create mapping dynamically\n",
        "label_map = {label: name for label, name in zip(unique_labels, label_names)}\n",
        "\n",
        "print(\"Label Map:\", label_map)  # Verify the mapping\n",
        "\n",
        "# Run interactive PCA\n",
        "interactive_pca(X, y, label_map)"
      ]
    },
    {
      "cell_type": "markdown",
      "metadata": {},
      "source": [
        "**Remarks**\n",
        "\n",
        "The **PCA plot shows clear separation** between **Healthy** and **Infected** leaves, meaning there are strong differentiating features."
      ]
    },
    {
      "cell_type": "markdown",
      "metadata": {},
      "source": [
        "### Pixel Intensity Histogram"
      ]
    },
    {
      "cell_type": "markdown",
      "metadata": {},
      "source": [
        "- Compares brightness distribution between Healthy and Infected leaves.\n",
        "- Helps determine if certain intensity ranges are dominant in one class."
      ]
    },
    {
      "cell_type": "code",
      "execution_count": null,
      "metadata": {},
      "outputs": [],
      "source": [
        "# Create Histogram\n",
        "plt.figure(figsize=(10, 5))\n",
        "plt.hist(healthy_data.flatten(), bins=30, alpha=0.7, label=\"Healthy\", color=\"blue\", density=True)\n",
        "plt.hist(infected_data.flatten(), bins=30, alpha=0.7, label=\"Infected\", color=\"red\", density=True)\n",
        "plt.xlabel(\"Pixel Intensity\")\n",
        "plt.ylabel(\"Frequency\")\n",
        "plt.legend()\n",
        "plt.title(\"Histogram of Pixel Intensity (Healthy vs Infected)\")\n",
        "plt.show()"
      ]
    },
    {
      "cell_type": "markdown",
      "metadata": {},
      "source": [
        "**Remarks**\n",
        "\n",
        "- The **pixel intensity distribution** shows clear differences between **Healthy** and **Infected** leaves.\n",
        "- Healthy leaves have **higher pixel intensity values**, indicating a **brighter appearance**.\n",
        "- Infected leaves have **lower intensity values**, suggesting **darker or more uneven surfaces**.\n",
        "- This supports our **t-test results**, confirming significant **brightness differences** between the two classes."
      ]
    },
    {
      "cell_type": "markdown",
      "metadata": {},
      "source": [
        "---"
      ]
    },
    {
      "cell_type": "markdown",
      "metadata": {},
      "source": [
        "# Conclusion and Next Steps"
      ]
    },
    {
      "cell_type": "markdown",
      "metadata": {},
      "source": [
        "---"
      ]
    },
    {
      "cell_type": "markdown",
      "metadata": {},
      "source": [
        "This notebook successfully provides visual insights into the dataset’s composition and characteristics. The key takeaways include:\n",
        "\n",
        "- **Image Distribution Analysis**: The dataset is balanced across training, validation, and test sets, ensuring fair model evaluation.\n",
        "- **Image Mean & Variability**: Healthy leaves exhibit more uniform structures, while Infected leaves show higher variability.\n",
        "- **Statistical Analysis**: A t-test confirms significant brightness differences between Healthy and Infected leaves.\n",
        "- **Feature Space Visualization**: PCA and t-SNE plots reveal clear class separability, supporting deep learning classification.\n",
        "\n",
        "## Next Steps\n",
        "1. Integrate Visuals into the Streamlit Dashboard\n",
        "    - Display image montages, class distributions, and pixel intensity histograms interactively.\n",
        "    - Use feature space visualizations (PCA) to demonstrate class differences.\n",
        "2. Enhance Data Preprocessing\n",
        "    - Apply data augmentation based on observed variability.\n",
        "    - Consider histogram equalization to improve contrast differences.\n",
        "3. Model Training & Feature Engineering\n",
        "    - Utilize image shape information for standardization in model pipelines.\n",
        "    - Experiment with edge detection, color space transformations (HSV), and other feature extraction techniques.\n",
        "4. Further Improvements\n",
        "    - Expand dataset analysis with color-based feature extraction.\n",
        "    - Validate class balance in additional test sets to ensure robustness.\n",
        "\n",
        "This concludes the Data Visualization phase. The next step is to prepare the dataset for model training and implement necessary preprocessing techniques.\n"
      ]
    }
  ],
  "metadata": {
    "accelerator": "GPU",
    "colab": {
      "name": "Data Practitioner Jupyter Notebook.ipynb",
      "provenance": [],
      "toc_visible": true
    },
    "interpreter": {
      "hash": "8b8334dab9339717f727a1deaf837b322d7a41c20d15cc86be99a8e69ceec8ce"
    },
    "kernelspec": {
      "display_name": "Python 3.8.12 64-bit ('3.8.12': pyenv)",
      "name": "python3"
    },
    "language_info": {
      "codemirror_mode": {
        "name": "ipython",
        "version": 3
      },
      "file_extension": ".py",
      "mimetype": "text/x-python",
      "name": "python",
      "nbconvert_exporter": "python",
      "pygments_lexer": "ipython3",
      "version": "3.8.12"
    },
    "orig_nbformat": 2
  },
  "nbformat": 4,
  "nbformat_minor": 2
}
